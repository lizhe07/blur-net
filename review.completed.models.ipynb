{
 "cells": [
  {
   "cell_type": "code",
   "execution_count": 1,
   "metadata": {},
   "outputs": [],
   "source": [
    "%matplotlib inline\n",
    "import matplotlib.pyplot as plt\n",
    "plt.rcParams.update({'font.size': 15, 'lines.linewidth': 3})\n",
    "\n",
    "import os, pickle\n",
    "import numpy as np"
   ]
  },
  {
   "cell_type": "code",
   "execution_count": 2,
   "metadata": {},
   "outputs": [],
   "source": [
    "from blurnet.trainer import BlurJob\n",
    "job = BlurJob('blur_models', 'benchmarks')\n",
    "\n",
    "from jarvis.utils import HashableDict\n",
    "model_config = {\n",
    "    'task': 'CIFAR10',\n",
    "    'arch': 'ResNet18',\n",
    "    'blur_sigma': 1.5,\n",
    "}\n",
    "best_ids = job.export_best(HashableDict(**model_config))\n",
    "\n",
    "with open(os.path.join('blur_models', 'best.ids.pickle'), 'wb') as f:\n",
    "    pickle.dump(best_ids, f)"
   ]
  },
  {
   "cell_type": "code",
   "execution_count": 3,
   "metadata": {},
   "outputs": [
    {
     "name": "stdout",
     "output_type": "stream",
     "text": [
      "accuracy: 88.84% (0.12%)\n"
     ]
    }
   ],
   "source": [
    "accs = []\n",
    "for w_id in best_ids:\n",
    "    preview = job.previews.fetch_record(w_id)\n",
    "    accs.append(preview['acc_test'])\n",
    "print('accuracy: {:.2%} ({:.2%})'.format(np.mean(accs), np.std(accs)/len(accs)**0.5))"
   ]
  }
 ],
 "metadata": {
  "kernelspec": {
   "display_name": "Python 3",
   "language": "python",
   "name": "python3"
  },
  "language_info": {
   "codemirror_mode": {
    "name": "ipython",
    "version": 3
   },
   "file_extension": ".py",
   "mimetype": "text/x-python",
   "name": "python",
   "nbconvert_exporter": "python",
   "pygments_lexer": "ipython3",
   "version": "3.8.0"
  }
 },
 "nbformat": 4,
 "nbformat_minor": 4
}
