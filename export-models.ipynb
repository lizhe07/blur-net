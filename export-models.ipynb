{
 "cells": [
  {
   "cell_type": "code",
   "execution_count": 1,
   "id": "f4235e0a-8f95-431f-8f62-25e2350f13de",
   "metadata": {},
   "outputs": [],
   "source": [
    "from train import TrainingJob\n",
    "\n",
    "job = TrainingJob()"
   ]
  },
  {
   "cell_type": "code",
   "execution_count": 4,
   "id": "d82fc937-62c4-4166-926e-d5f106b8c9fa",
   "metadata": {},
   "outputs": [
    {
     "name": "stdout",
     "output_type": "stream",
     "text": [
      "894FC0B0\n",
      "{'model_config': {'task': 'CIFAR10', 'arch': 'ResNet34', 'sigma': None}, 'train_config': {'pretrain': False, 'seed': 29, 'split_ratio': 0.95, 'batch_size': 32, 'lr': 0.01, 'momentum': 0.9, 'weight_decay': 0.0001, 'phase_len': 4, 'num_phases': 3, 'gamma': 0.3}}\n",
      "{'epoch': 48, 'toc': 1659312438.3987017}\n",
      "{'loss_train': 0.13456424013237095, 'loss_valid': 0.26761892769262197, 'loss_test': 0.25513247759342195, 'acc_train': 0.9503734111090929, 'acc_valid': 0.9176, 'acc_test': 0.9187}\n",
      "1D74C9AA\n",
      "{'model_config': {'task': 'CIFAR10', 'arch': 'ResNet34', 'sigma': None}, 'train_config': {'pretrain': False, 'seed': 85, 'split_ratio': 0.95, 'batch_size': 32, 'lr': 0.01, 'momentum': 0.9, 'weight_decay': 0.0001, 'phase_len': 4, 'num_phases': 3, 'gamma': 0.3}}\n",
      "{'epoch': 48, 'toc': 1659319929.6645148}\n",
      "{'loss_train': 0.044762895348988134, 'loss_valid': 0.2473776968085207, 'loss_test': 0.24008272387981414, 'acc_train': 0.9838960940086565, 'acc_valid': 0.934, 'acc_test': 0.9296}\n",
      "DE2681C8\n",
      "{'model_config': {'task': 'CIFAR10', 'arch': 'ResNet34', 'sigma': None}, 'train_config': {'pretrain': False, 'seed': 41, 'split_ratio': 0.95, 'batch_size': 32, 'lr': 0.01, 'momentum': 0.9, 'weight_decay': 0.0001, 'phase_len': 4, 'num_phases': 3, 'gamma': 0.3}}\n",
      "{'epoch': 48, 'toc': 1659307661.917051}\n",
      "{'loss_train': 0.0406887292468813, 'loss_valid': 0.22631238161325454, 'loss_test': 0.24604349321722985, 'acc_train': 0.9863132728063488, 'acc_valid': 0.9348, 'acc_test': 0.9319}\n"
     ]
    }
   ],
   "source": [
    "# cond = {\n",
    "#     'model_config': {'task': 'ImageNet', 'arch': 'ResNet50', 'sigma': 2},\n",
    "#     'train_config': {'pretrain': True},\n",
    "# }\n",
    "cond = {\n",
    "    'model_config': {'task': 'CIFAR10', 'arch': 'ResNet34', 'sigma': None},\n",
    "}\n",
    "\n",
    "accs = {}\n",
    "for key in job.completed(min_epoch=24, cond=cond):\n",
    "    print(key)\n",
    "    print(job.configs[key])\n",
    "    print(job.stats[key])\n",
    "    print(job.previews[key])\n",
    "    accs[key] = job.previews[key]['acc_test']"
   ]
  },
  {
   "cell_type": "code",
   "execution_count": 5,
   "id": "f8bce878-9dfd-4e18-9524-3da816eecd83",
   "metadata": {},
   "outputs": [],
   "source": [
    "key = 'DE2681C8'\n",
    "job.export(key, f'store/exported/C10R34_{key}.pt')"
   ]
  },
  {
   "cell_type": "code",
   "execution_count": 5,
   "id": "faa2dab6-4adc-4275-9e20-3d16d1bdb5cc",
   "metadata": {},
   "outputs": [
    {
     "name": "stdout",
     "output_type": "stream",
     "text": [
      "{'pretrain': False, 'seed': 41, 'split_ratio': 0.95, 'batch_size': 32, 'lr': 0.01, 'momentum': 0.9, 'weight_decay': 0.0001, 'phase_len': 4, 'num_phases': 3, 'gamma': 0.3}\n",
      "{'pretrain': False, 'seed': 29, 'split_ratio': 0.95, 'batch_size': 32, 'lr': 0.01, 'momentum': 0.9, 'weight_decay': 0.0001, 'phase_len': 4, 'num_phases': 3, 'gamma': 0.3}\n",
      "{'pretrain': False, 'seed': 7, 'split_ratio': 0.95, 'batch_size': 32, 'lr': 0.01, 'momentum': 0.9, 'weight_decay': 0.0001, 'phase_len': 4, 'num_phases': 3, 'gamma': 0.3}\n",
      "{'pretrain': False, 'seed': 63, 'split_ratio': 0.95, 'batch_size': 32, 'lr': 0.01, 'momentum': 0.9, 'weight_decay': 0.0001, 'phase_len': 4, 'num_phases': 3, 'gamma': 0.3}\n",
      "{'pretrain': False, 'seed': 29, 'split_ratio': 0.95, 'batch_size': 32, 'lr': 0.005, 'momentum': 0.9, 'weight_decay': 0.0001, 'phase_len': 4, 'num_phases': 3, 'gamma': 0.3}\n"
     ]
    }
   ],
   "source": [
    "model_paths = []\n",
    "for i, (key, _) in enumerate(sorted(accs.items(), key=lambda x:x[1], reverse=True)):\n",
    "    if i==5:\n",
    "        break\n",
    "    print(job.configs[key]['train_config'])\n",
    "    # job.export(key, f'store/exported/BlurResNet18_[1.5]_{key}.pt')\n",
    "    # model_paths.append(f'store/exported/BlurResNet18_[1.5]_{key}.pt')"
   ]
  },
  {
   "cell_type": "code",
   "execution_count": 8,
   "id": "536b6f37-803d-4245-b73e-35a48214b32b",
   "metadata": {},
   "outputs": [
    {
     "data": {
      "text/plain": [
       "['store/exported/BlurResNet18_[1.5]_A73EED68.pt',\n",
       " 'store/exported/BlurResNet18_[1.5]_1E1A0C95.pt',\n",
       " 'store/exported/BlurResNet18_[1.5]_2A9BC19E.pt',\n",
       " 'store/exported/BlurResNet18_[1.5]_CCA1DE26.pt',\n",
       " 'store/exported/BlurResNet18_[1.5]_78B6B7CD.pt']"
      ]
     },
     "execution_count": 8,
     "metadata": {},
     "output_type": "execute_result"
    }
   ],
   "source": [
    "model_paths"
   ]
  }
 ],
 "metadata": {
  "kernelspec": {
   "display_name": "Python 3 (ipykernel)",
   "language": "python",
   "name": "python3"
  },
  "language_info": {
   "codemirror_mode": {
    "name": "ipython",
    "version": 3
   },
   "file_extension": ".py",
   "mimetype": "text/x-python",
   "name": "python",
   "nbconvert_exporter": "python",
   "pygments_lexer": "ipython3",
   "version": "3.9.5"
  }
 },
 "nbformat": 4,
 "nbformat_minor": 5
}
