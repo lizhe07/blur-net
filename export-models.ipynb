{
 "cells": [
  {
   "cell_type": "code",
   "execution_count": 1,
   "id": "f4235e0a-8f95-431f-8f62-25e2350f13de",
   "metadata": {},
   "outputs": [],
   "source": [
    "from train import TrainingJob\n",
    "\n",
    "job = TrainingJob()"
   ]
  },
  {
   "cell_type": "code",
   "execution_count": 15,
   "id": "d82fc937-62c4-4166-926e-d5f106b8c9fa",
   "metadata": {},
   "outputs": [
    {
     "name": "stdout",
     "output_type": "stream",
     "text": [
      "28174696\n",
      "{'epoch': 24, 'toc': 1658243617.9127371}\n",
      "{'loss_train': 1.1193102577698504, 'loss_valid': 0.6978831465009555, 'loss_test': 1.0591839725112915, 'acc_train': 0.730821027546795, 'acc_valid': 0.8107369768494669, 'acc_test': 0.73944}\n",
      "56A100A0\n",
      "{'epoch': 32, 'toc': 1658261419.1653845}\n",
      "{'loss_train': 1.0946778676107005, 'loss_valid': 0.6964588592552641, 'loss_test': 1.0565498576354981, 'acc_train': 0.7351539387698569, 'acc_valid': 0.8106745344135875, 'acc_test': 0.74086}\n",
      "502FAB87\n",
      "{'epoch': 24, 'toc': 1658249239.8450444}\n",
      "{'loss_train': 1.0737744246724443, 'loss_valid': 0.708205174416465, 'loss_test': 1.0664876567077637, 'acc_train': 0.7406697383568164, 'acc_valid': 0.8101906055355219, 'acc_test': 0.73712}\n"
     ]
    }
   ],
   "source": [
    "cond = {\n",
    "    'model_config': {'task': 'ImageNet', 'arch': 'ResNet50', 'sigma': 2},\n",
    "    'train_config': {'pretrain': True},\n",
    "}\n",
    "\n",
    "for key in job.completed(cond=cond):\n",
    "    print(key)\n",
    "    print(job.stats[key])\n",
    "    print(job.previews[key])"
   ]
  },
  {
   "cell_type": "code",
   "execution_count": 16,
   "id": "a92fe25c-8152-43e3-a03d-d3a77d5b6839",
   "metadata": {},
   "outputs": [],
   "source": [
    "job.export('56A100A0', 'store/exported/BlurResNet50_[2].pt')"
   ]
  },
  {
   "cell_type": "code",
   "execution_count": 6,
   "id": "2b270050-36f7-42b4-be27-48134c5d677a",
   "metadata": {},
   "outputs": [
    {
     "data": {
      "text/plain": [
       "{'epoch': 32, 'toc': 1653151040.253418}"
      ]
     },
     "execution_count": 6,
     "metadata": {},
     "output_type": "execute_result"
    }
   ],
   "source": [
    "job.stats[key]"
   ]
  },
  {
   "cell_type": "code",
   "execution_count": 2,
   "id": "2cfb48fb-1135-47ba-a329-cbc1aeecc4cf",
   "metadata": {},
   "outputs": [
    {
     "data": {
      "text/plain": [
       "{'model_config': {'task': 'ImageNet', 'arch': 'ResNet50', 'sigma': 3.0},\n",
       " 'train_config': {'pretrain': True,\n",
       "  'seed': 85,\n",
       "  'split_ratio': 0.95,\n",
       "  'batch_size': 128,\n",
       "  'lr': 0.001,\n",
       "  'momentum': 0.9,\n",
       "  'weight_decay': 0.0001,\n",
       "  'phase_len': 4,\n",
       "  'num_phases': 3,\n",
       "  'gamma': 0.3}}"
      ]
     },
     "execution_count": 2,
     "metadata": {},
     "output_type": "execute_result"
    }
   ],
   "source": [
    "next(iter(job.configs.values()))"
   ]
  },
  {
   "cell_type": "code",
   "execution_count": null,
   "id": "2dfe8b11-04b7-404a-979b-391a30406928",
   "metadata": {},
   "outputs": [],
   "source": []
  }
 ],
 "metadata": {
  "kernelspec": {
   "display_name": "Python 3 (ipykernel)",
   "language": "python",
   "name": "python3"
  },
  "language_info": {
   "codemirror_mode": {
    "name": "ipython",
    "version": 3
   },
   "file_extension": ".py",
   "mimetype": "text/x-python",
   "name": "python",
   "nbconvert_exporter": "python",
   "pygments_lexer": "ipython3",
   "version": "3.9.5"
  }
 },
 "nbformat": 4,
 "nbformat_minor": 5
}
