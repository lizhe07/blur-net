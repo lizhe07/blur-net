{
 "cells": [
  {
   "cell_type": "code",
   "execution_count": 1,
   "id": "574e3e21-06e4-47c6-9954-18fcefb66208",
   "metadata": {
    "tags": []
   },
   "outputs": [
    {
     "name": "stdout",
     "output_type": "stream",
     "text": [
      "evaluating resnet20...\n"
     ]
    },
    {
     "name": "stderr",
     "output_type": "stream",
     "text": [
      "Using cache found in /root/.cache/torch/hub/chenyaofo_pytorch-cifar-models_master\n"
     ]
    },
    {
     "name": "stdout",
     "output_type": "stream",
     "text": [
      "[loss: 0.292], [acc: 92.22%] (0m01.51s)\n",
      "evaluating resnet32...\n"
     ]
    },
    {
     "name": "stderr",
     "output_type": "stream",
     "text": [
      "Using cache found in /root/.cache/torch/hub/chenyaofo_pytorch-cifar-models_master\n"
     ]
    },
    {
     "name": "stdout",
     "output_type": "stream",
     "text": [
      "[loss: 0.305], [acc: 93.33%] (0m00.70s)\n",
      "evaluating resnet44...\n"
     ]
    },
    {
     "name": "stderr",
     "output_type": "stream",
     "text": [
      "Using cache found in /root/.cache/torch/hub/chenyaofo_pytorch-cifar-models_master\n"
     ]
    },
    {
     "name": "stdout",
     "output_type": "stream",
     "text": [
      "[loss: 0.283], [acc: 93.72%] (0m00.81s)\n",
      "evaluating resnet56...\n"
     ]
    },
    {
     "name": "stderr",
     "output_type": "stream",
     "text": [
      "Using cache found in /root/.cache/torch/hub/chenyaofo_pytorch-cifar-models_master\n"
     ]
    },
    {
     "name": "stdout",
     "output_type": "stream",
     "text": [
      "[loss: 0.262], [acc: 94.22%] (0m00.92s)\n",
      "evaluating vgg11_bn...\n"
     ]
    },
    {
     "name": "stderr",
     "output_type": "stream",
     "text": [
      "Using cache found in /root/.cache/torch/hub/chenyaofo_pytorch-cifar-models_master\n"
     ]
    },
    {
     "name": "stdout",
     "output_type": "stream",
     "text": [
      "[loss: 0.348], [acc: 92.55%] (0m00.69s)\n",
      "evaluating vgg13_bn...\n"
     ]
    },
    {
     "name": "stderr",
     "output_type": "stream",
     "text": [
      "Using cache found in /root/.cache/torch/hub/chenyaofo_pytorch-cifar-models_master\n"
     ]
    },
    {
     "name": "stdout",
     "output_type": "stream",
     "text": [
      "[loss: 0.289], [acc: 93.78%] (0m00.78s)\n",
      "evaluating vgg16_bn...\n"
     ]
    },
    {
     "name": "stderr",
     "output_type": "stream",
     "text": [
      "Using cache found in /root/.cache/torch/hub/chenyaofo_pytorch-cifar-models_master\n"
     ]
    },
    {
     "name": "stdout",
     "output_type": "stream",
     "text": [
      "[loss: 0.339], [acc: 93.94%] (0m00.94s)\n",
      "evaluating vgg19_bn...\n"
     ]
    },
    {
     "name": "stderr",
     "output_type": "stream",
     "text": [
      "Using cache found in /root/.cache/torch/hub/chenyaofo_pytorch-cifar-models_master\n"
     ]
    },
    {
     "name": "stdout",
     "output_type": "stream",
     "text": [
      "[loss: 0.362], [acc: 93.52%] (0m01.06s)\n",
      "evaluating mobilenetv2_x0_5...\n"
     ]
    },
    {
     "name": "stderr",
     "output_type": "stream",
     "text": [
      "Using cache found in /root/.cache/torch/hub/chenyaofo_pytorch-cifar-models_master\n"
     ]
    },
    {
     "name": "stdout",
     "output_type": "stream",
     "text": [
      "[loss: 0.289], [acc: 92.65%] (0m00.92s)\n",
      "evaluating mobilenetv2_x0_75...\n"
     ]
    },
    {
     "name": "stderr",
     "output_type": "stream",
     "text": [
      "Using cache found in /root/.cache/torch/hub/chenyaofo_pytorch-cifar-models_master\n"
     ]
    },
    {
     "name": "stdout",
     "output_type": "stream",
     "text": [
      "[loss: 0.246], [acc: 93.89%] (0m01.21s)\n",
      "evaluating mobilenetv2_x1_0...\n"
     ]
    },
    {
     "name": "stderr",
     "output_type": "stream",
     "text": [
      "Using cache found in /root/.cache/torch/hub/chenyaofo_pytorch-cifar-models_master\n"
     ]
    },
    {
     "name": "stdout",
     "output_type": "stream",
     "text": [
      "[loss: 0.256], [acc: 93.93%] (0m01.37s)\n",
      "evaluating mobilenetv2_x1_4...\n"
     ]
    },
    {
     "name": "stderr",
     "output_type": "stream",
     "text": [
      "Using cache found in /root/.cache/torch/hub/chenyaofo_pytorch-cifar-models_master\n"
     ]
    },
    {
     "name": "stdout",
     "output_type": "stream",
     "text": [
      "[loss: 0.256], [acc: 93.98%] (0m01.83s)\n",
      "evaluating shufflenetv2_x0_5...\n"
     ]
    },
    {
     "name": "stderr",
     "output_type": "stream",
     "text": [
      "Using cache found in /root/.cache/torch/hub/chenyaofo_pytorch-cifar-models_master\n"
     ]
    },
    {
     "name": "stdout",
     "output_type": "stream",
     "text": [
      "[loss: 0.379], [acc: 89.97%] (0m00.85s)\n",
      "evaluating shufflenetv2_x1_0...\n"
     ]
    },
    {
     "name": "stderr",
     "output_type": "stream",
     "text": [
      "Using cache found in /root/.cache/torch/hub/chenyaofo_pytorch-cifar-models_master\n"
     ]
    },
    {
     "name": "stdout",
     "output_type": "stream",
     "text": [
      "[loss: 0.302], [acc: 92.64%] (0m00.88s)\n",
      "evaluating shufflenetv2_x1_5...\n"
     ]
    },
    {
     "name": "stderr",
     "output_type": "stream",
     "text": [
      "Using cache found in /root/.cache/torch/hub/chenyaofo_pytorch-cifar-models_master\n"
     ]
    },
    {
     "name": "stdout",
     "output_type": "stream",
     "text": [
      "[loss: 0.278], [acc: 93.42%] (0m01.04s)\n",
      "evaluating shufflenetv2_x2_0...\n"
     ]
    },
    {
     "name": "stderr",
     "output_type": "stream",
     "text": [
      "Using cache found in /root/.cache/torch/hub/chenyaofo_pytorch-cifar-models_master\n"
     ]
    },
    {
     "name": "stdout",
     "output_type": "stream",
     "text": [
      "[loss: 0.266], [acc: 93.78%] (0m01.42s)\n",
      "evaluating repvgg_a0...\n"
     ]
    },
    {
     "name": "stderr",
     "output_type": "stream",
     "text": [
      "Using cache found in /root/.cache/torch/hub/chenyaofo_pytorch-cifar-models_master\n"
     ]
    },
    {
     "name": "stdout",
     "output_type": "stream",
     "text": [
      "[loss: 0.256], [acc: 94.34%] (0m01.49s)\n",
      "evaluating repvgg_a1...\n"
     ]
    },
    {
     "name": "stderr",
     "output_type": "stream",
     "text": [
      "Using cache found in /root/.cache/torch/hub/chenyaofo_pytorch-cifar-models_master\n"
     ]
    },
    {
     "name": "stdout",
     "output_type": "stream",
     "text": [
      "[loss: 0.233], [acc: 94.55%] (0m01.91s)\n",
      "evaluating repvgg_a2...\n"
     ]
    },
    {
     "name": "stderr",
     "output_type": "stream",
     "text": [
      "Using cache found in /root/.cache/torch/hub/chenyaofo_pytorch-cifar-models_master\n"
     ]
    },
    {
     "name": "stdout",
     "output_type": "stream",
     "text": [
      "[loss: 0.224], [acc: 95.05%] (0m03.07s)\n"
     ]
    }
   ],
   "source": [
    "import torch\n",
    "from jarvis.vision import evaluate\n",
    "from jarvis.vision import prepare_datasets\n",
    "from jarvis.models.wrapper import WrappedClassifier\n",
    "\n",
    "model_names = [\n",
    "    'resnet20',\n",
    "    'resnet32',\n",
    "    'resnet44',\n",
    "    'resnet56',\n",
    "    'vgg11_bn',\n",
    "    'vgg13_bn',\n",
    "    'vgg16_bn',\n",
    "    'vgg19_bn',\n",
    "    'mobilenetv2_x0_5',\n",
    "    'mobilenetv2_x0_75',\n",
    "    'mobilenetv2_x1_0',\n",
    "    'mobilenetv2_x1_4',\n",
    "    'shufflenetv2_x0_5',\n",
    "    'shufflenetv2_x1_0',\n",
    "    'shufflenetv2_x1_5',\n",
    "    'shufflenetv2_x2_0',\n",
    "    'repvgg_a0',\n",
    "    'repvgg_a1',\n",
    "    'repvgg_a2',\n",
    "]\n",
    "\n",
    "for model_name in model_names:\n",
    "    print(f'evaluating {model_name}...')\n",
    "    model = torch.hub.load(\"chenyaofo/pytorch-cifar-models\", f\"cifar10_{model_name}\", pretrained=True, trust_repo=True)\n",
    "    dataset = prepare_datasets('CIFAR10', 'datasets')\n",
    "    w_model = WrappedClassifier(model)\n",
    "    loss, acc = evaluate(w_model, dataset)\n",
    "    w_model.eval().to('cpu')\n",
    "    \n",
    "    torch.save({\n",
    "        'info': f'chenyaofo/pytorch-cifar-models/cifar10_{model_name}',\n",
    "        'task': 'CIFAR10',\n",
    "        'model': w_model,\n",
    "        'acc': acc,\n",
    "    }, f'store/exported/chenyaofo_{model_name}.pt')"
   ]
  }
 ],
 "metadata": {
  "kernelspec": {
   "display_name": "Python 3 (ipykernel)",
   "language": "python",
   "name": "python3"
  },
  "language_info": {
   "codemirror_mode": {
    "name": "ipython",
    "version": 3
   },
   "file_extension": ".py",
   "mimetype": "text/x-python",
   "name": "python",
   "nbconvert_exporter": "python",
   "pygments_lexer": "ipython3",
   "version": "3.9.5"
  }
 },
 "nbformat": 4,
 "nbformat_minor": 5
}
