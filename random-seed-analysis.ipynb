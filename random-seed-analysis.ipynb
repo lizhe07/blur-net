{
 "cells": [
  {
   "cell_type": "code",
   "execution_count": 1,
   "id": "19dc18bd-babd-4eed-bf95-75058ecf3332",
   "metadata": {},
   "outputs": [],
   "source": [
    "%matplotlib inline\n",
    "import matplotlib.pyplot as plt\n",
    "plt.rcParams.update({\n",
    "    'font.size': 15, 'lines.linewidth': 2,\n",
    "    'xtick.labelsize': 13, 'ytick.labelsize': 13,\n",
    "    'axes.spines.top': False, 'axes.spines.right': False,\n",
    "    'savefig.dpi': 1200,\n",
    "})\n",
    "\n",
    "import numpy as np\n",
    "import torch"
   ]
  },
  {
   "cell_type": "code",
   "execution_count": 2,
   "id": "7df5979b-c6f6-41bd-9071-8ff7d22728ac",
   "metadata": {},
   "outputs": [],
   "source": [
    "model_paths = [\n",
    "    'store/exported/BlurResNet18_[1.5]_A73EED68.pt',\n",
    "    'store/exported/BlurResNet18_[1.5]_1E1A0C95.pt',\n",
    "    'store/exported/BlurResNet18_[1.5]_2A9BC19E.pt',\n",
    "    'store/exported/BlurResNet18_[1.5]_CCA1DE26.pt',\n",
    "    'store/exported/BlurResNet18_[1.5]_78B6B7CD.pt',\n",
    "]"
   ]
  },
  {
   "cell_type": "code",
   "execution_count": 3,
   "id": "a7d42d3c-7bfe-4675-8528-33c9f320b9dd",
   "metadata": {},
   "outputs": [],
   "source": [
    "from roarena.einmon import EinMonJob\n",
    "\n",
    "e_job = EinMonJob('store/e-tests', 'datasets', read_only=True)"
   ]
  },
  {
   "cell_type": "code",
   "execution_count": 10,
   "id": "b2d2d8a0-83b3-412f-8a9a-18c5ced9fb7c",
   "metadata": {},
   "outputs": [],
   "source": [
    "f_revs = {}\n",
    "for model_path in model_paths:\n",
    "    tag = model_path.split('_')[-1].split('.')[0]\n",
    "    f_revs[tag] = []\n",
    "    for seed in range(6):\n",
    "        alphas, accs = [], []\n",
    "        for key in e_job.completed(cond={'model_path': model_path, 'seed': seed}):\n",
    "            alphas.append(e_job.configs[key]['alpha'])\n",
    "            ckpt = e_job.ckpts[key]\n",
    "            accs.append(ckpt['acc_low']-ckpt['acc_high'])\n",
    "        alphas, accs = zip(*sorted(zip(alphas, accs), key=lambda x:x[0]))\n",
    "        f_revs[tag].append(np.interp(0, accs, alphas))\n",
    "\n",
    "torch.save(f_revs, 'store/figs-data/CIFAR10_reverse-freqs.pt')"
   ]
  },
  {
   "cell_type": "code",
   "execution_count": 6,
   "id": "b36d4d98-0877-44a2-a0db-bdd08af59221",
   "metadata": {},
   "outputs": [],
   "source": [
    "from jarvis.vision import prepare_datasets\n",
    "from roarena.attack import AttackJob\n",
    "\n",
    "dataset = prepare_datasets('CIFAR10', 'datasets')\n",
    "imgs = []\n",
    "for i in range(1000):\n",
    "    img, _ = dataset[i]\n",
    "    imgs.append(img.numpy())\n",
    "imgs = np.stack(imgs)\n",
    "\n",
    "a_job = AttackJob('store/a-tests', 'datasets', read_only=True)"
   ]
  },
  {
   "cell_type": "code",
   "execution_count": 7,
   "id": "126ebc57-a5a3-4923-a9c8-7895c5d8edd1",
   "metadata": {},
   "outputs": [
    {
     "name": "stdout",
     "output_type": "stream",
     "text": [
      "Collecting advs for store/exported/BlurResNet18_[1.5]_A73EED68.pt...\n",
      "3778.3 secs\n",
      "Collecting advs for store/exported/BlurResNet18_[1.5]_1E1A0C95.pt...\n",
      "3614.3 secs\n",
      "Collecting advs for store/exported/BlurResNet18_[1.5]_2A9BC19E.pt...\n",
      "3596.6 secs\n",
      "Collecting advs for store/exported/BlurResNet18_[1.5]_CCA1DE26.pt...\n",
      "3849.9 secs\n",
      "Collecting advs for store/exported/BlurResNet18_[1.5]_78B6B7CD.pt...\n",
      "3688.6 secs\n"
     ]
    }
   ],
   "source": [
    "import time\n",
    "\n",
    "for model_path in model_paths:\n",
    "    print(f\"Collecting advs for {model_path}...\")\n",
    "    tic = time.time()\n",
    "    dists = []\n",
    "    advs = []\n",
    "    for sample_idx in range(1000):\n",
    "        _min_dists, _, _advs = a_job.best_attack(model_path, 'LI', True, 'elm', 0, sample_idx=sample_idx, min_probs=[0.5], return_advs=True)\n",
    "        dists.append(_min_dists[0])\n",
    "        advs.append(_advs[0])\n",
    "    dists = np.array(dists)\n",
    "    advs = np.stack(advs)\n",
    "    toc = time.time()\n",
    "    print(\"{:.1f} secs\".format(toc-tic))\n",
    "    \n",
    "    file_name = 'store/figs-data/CIFAR10-advs_{}.pt'.format(model_path.split('_')[-1].split('.')[0])\n",
    "    torch.save({'dists': dists, 'advs': advs}, file_name)"
   ]
  }
 ],
 "metadata": {
  "kernelspec": {
   "display_name": "Python 3 (ipykernel)",
   "language": "python",
   "name": "python3"
  },
  "language_info": {
   "codemirror_mode": {
    "name": "ipython",
    "version": 3
   },
   "file_extension": ".py",
   "mimetype": "text/x-python",
   "name": "python",
   "nbconvert_exporter": "python",
   "pygments_lexer": "ipython3",
   "version": "3.9.5"
  }
 },
 "nbformat": 4,
 "nbformat_minor": 5
}
