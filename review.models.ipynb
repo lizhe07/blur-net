{
 "cells": [
  {
   "cell_type": "code",
   "execution_count": 1,
   "metadata": {},
   "outputs": [],
   "source": [
    "%matplotlib inline\n",
    "import matplotlib.pyplot as plt\n",
    "plt.rcParams.update({'font.size': 15, 'lines.linewidth': 3, 'savefig.dpi': 1200})\n",
    "\n",
    "import os, random, time, pickle, torch\n",
    "import numpy as np\n",
    "\n",
    "store_dir = 'store'\n",
    "datasets_dir = 'vision_datasets'\n",
    "export_dir = os.path.join(store_dir, 'models', 'exported')\n",
    "if not os.path.exists(export_dir):\n",
    "    os.makedirs(export_dir)"
   ]
  },
  {
   "cell_type": "code",
   "execution_count": 2,
   "metadata": {},
   "outputs": [],
   "source": [
    "from blurnet import trainer\n",
    "\n",
    "train_job = trainer.TrainJob(store_dir, datasets_dir)"
   ]
  },
  {
   "cell_type": "code",
   "execution_count": 3,
   "metadata": {},
   "outputs": [
    {
     "name": "stdout",
     "output_type": "stream",
     "text": [
      "10 models exported for sigma=None\n",
      "10 models exported for sigma=1.5\n"
     ]
    }
   ],
   "source": [
    "task, grayscale = 'CIFAR10', True\n",
    "export_pths = {}\n",
    "sigmas = {\n",
    "    'baseline': None,\n",
    "    'blur': 1.5,\n",
    "}\n",
    "\n",
    "for label, sigma in sigmas.items():\n",
    "    cond = {'model_config': {'task': task, 'grayscale': grayscale, 'sigma': sigma}}\n",
    "    export_pths[label] = []\n",
    "    for key, config in train_job.conditioned(cond):\n",
    "        export_pth = os.path.join(export_dir, '{}-{}-{}-{:03d}.pickle'.format(\n",
    "            task, 'GRAY' if grayscale else 'RGB',\n",
    "            'baseline' if sigma is None else '{:g}'.format(sigma),\n",
    "            config['train_config']['seed']\n",
    "        ))\n",
    "        if not os.path.exists(export_pth):\n",
    "            train_job.export(key, export_pth)\n",
    "        export_pths[label].append(export_pth)\n",
    "    print('{} models exported for sigma={}'.format(len(export_pths[label]), sigma))"
   ]
  },
  {
   "cell_type": "code",
   "execution_count": 4,
   "metadata": {},
   "outputs": [
    {
     "name": "stderr",
     "output_type": "stream",
     "text": [
      "/foolbox/foolbox/attacks/brendel_bethge.py:624: UserWarning: At the first initialisation the optimizer needs to be compiled. This may take between 20 to 60 seconds.\n",
      "  warnings.warn(\n"
     ]
    }
   ],
   "source": [
    "from roarena.attack import AttackJob\n",
    "\n",
    "attack_job = AttackJob(store_dir, datasets_dir)"
   ]
  },
  {
   "cell_type": "code",
   "execution_count": 8,
   "metadata": {},
   "outputs": [
    {
     "name": "stdout",
     "output_type": "stream",
     "text": [
      "results pooled for store/models/exported/CIFAR10-GRAY-1.5-006.pickle (4m28.25s)\n",
      "results pooled for store/models/exported/CIFAR10-GRAY-1.5-002.pickle (3m03.23s)\n",
      "results pooled for store/models/exported/CIFAR10-GRAY-1.5-008.pickle (2m35.51s)\n",
      "results pooled for store/models/exported/CIFAR10-GRAY-1.5-000.pickle (2m50.80s)\n",
      "results pooled for store/models/exported/CIFAR10-GRAY-1.5-007.pickle (4m34.07s)\n",
      "results pooled for store/models/exported/CIFAR10-GRAY-1.5-001.pickle (4m13.81s)\n",
      "results pooled for store/models/exported/CIFAR10-GRAY-1.5-005.pickle (5m09.39s)\n",
      "results pooled for store/models/exported/CIFAR10-GRAY-1.5-003.pickle (5m48.78s)\n",
      "results pooled for store/models/exported/CIFAR10-GRAY-1.5-009.pickle (3m07.29s)\n",
      "results pooled for store/models/exported/CIFAR10-GRAY-1.5-004.pickle (6m13.20s)\n"
     ]
    }
   ],
   "source": [
    "model_pths = export_pths['blur']\n",
    "success_rates, _ = attack_job.summarize(model_pths, 'L2', False, 0.25)"
   ]
  },
  {
   "cell_type": "code",
   "execution_count": 9,
   "metadata": {},
   "outputs": [
    {
     "data": {
      "text/plain": [
       "array([0.893, 0.89 , 0.895, 0.879, 0.901, 0.905, 0.905, 0.895, 0.906,\n",
       "       0.895])"
      ]
     },
     "execution_count": 9,
     "metadata": {},
     "output_type": "execute_result"
    }
   ],
   "source": [
    "success_rates"
   ]
  },
  {
   "cell_type": "code",
   "execution_count": 10,
   "metadata": {},
   "outputs": [
    {
     "name": "stdout",
     "output_type": "stream",
     "text": [
      "results pooled for store/models/exported/CIFAR10-GRAY-baseline-006.pickle (0m46.40s)\n",
      "results pooled for store/models/exported/CIFAR10-GRAY-baseline-000.pickle (0m32.26s)\n",
      "results pooled for store/models/exported/CIFAR10-GRAY-baseline-009.pickle (0m29.52s)\n",
      "results pooled for store/models/exported/CIFAR10-GRAY-baseline-004.pickle (0m34.04s)\n"
     ]
    }
   ],
   "source": [
    "model_pths = export_pths['baseline'][:4]\n",
    "success_rates, _ = attack_job.summarize(model_pths, 'L2', False, 0.25, 25)"
   ]
  },
  {
   "cell_type": "code",
   "execution_count": 11,
   "metadata": {},
   "outputs": [
    {
     "data": {
      "text/plain": [
       "array([0.984, 0.99 , 0.986, 0.99 ])"
      ]
     },
     "execution_count": 11,
     "metadata": {},
     "output_type": "execute_result"
    }
   ],
   "source": [
    "success_rates"
   ]
  },
  {
   "cell_type": "code",
   "execution_count": 4,
   "metadata": {},
   "outputs": [],
   "source": [
    "from roarena.corruption import CorruptionJob\n",
    "\n",
    "corruption_job = CorruptionJob(store_dir, datasets_dir)"
   ]
  },
  {
   "cell_type": "code",
   "execution_count": 5,
   "metadata": {},
   "outputs": [
    {
     "data": {
      "text/plain": [
       "{'gaussian_noise': array([0.6138, 0.615 , 0.6477, 0.6535, 0.6383, 0.6494, 0.622 , 0.6387,\n",
       "        0.6459, 0.6445]),\n",
       " 'shot_noise': array([0.6286, 0.6352, 0.6719, 0.6768, 0.6543, 0.6627, 0.643 , 0.6589,\n",
       "        0.6627, 0.6565]),\n",
       " 'impulse_noise': array([0.3924, 0.4137, 0.4449, 0.4552, 0.4245, 0.4339, 0.419 , 0.449 ,\n",
       "        0.4489, 0.4515]),\n",
       " 'defocus_blur': array([0.4581, 0.5093, 0.5374, 0.5366, 0.502 , 0.5504, 0.5115, 0.5043,\n",
       "        0.5164, 0.5651]),\n",
       " 'glass_blur': array([0.5745, 0.5662, 0.5906, 0.5781, 0.577 , 0.5705, 0.5789, 0.5823,\n",
       "        0.5853, 0.5878]),\n",
       " 'motion_blur': array([0.4938, 0.522 , 0.5252, 0.5137, 0.5267, 0.537 , 0.5228, 0.5249,\n",
       "        0.5143, 0.5256]),\n",
       " 'zoom_blur': array([0.629 , 0.6589, 0.6717, 0.6816, 0.6499, 0.6822, 0.6545, 0.645 ,\n",
       "        0.6567, 0.6818]),\n",
       " 'snow': array([0.72  , 0.7154, 0.7216, 0.7357, 0.7261, 0.7272, 0.7165, 0.7142,\n",
       "        0.7274, 0.727 ]),\n",
       " 'frost': array([0.7189, 0.7108, 0.7382, 0.7356, 0.7184, 0.7304, 0.7199, 0.7194,\n",
       "        0.7328, 0.7309]),\n",
       " 'fog': array([0.4927, 0.5103, 0.5106, 0.5104, 0.505 , 0.5079, 0.4944, 0.5101,\n",
       "        0.5148, 0.4984]),\n",
       " 'brightness': array([0.8274, 0.8299, 0.8274, 0.8376, 0.832 , 0.8333, 0.8222, 0.8216,\n",
       "        0.8353, 0.8281]),\n",
       " 'contrast': array([0.3511, 0.3311, 0.3875, 0.4057, 0.3575, 0.4386, 0.3446, 0.3405,\n",
       "        0.361 , 0.3434]),\n",
       " 'elastic_transform': array([0.665 , 0.667 , 0.6766, 0.6762, 0.6653, 0.6739, 0.6751, 0.6711,\n",
       "        0.6735, 0.6812]),\n",
       " 'pixelate': array([0.7702, 0.7754, 0.7813, 0.7903, 0.7784, 0.78  , 0.7753, 0.7609,\n",
       "        0.7779, 0.7846]),\n",
       " 'jpeg_compression': array([0.8189, 0.8236, 0.8262, 0.8309, 0.8223, 0.822 , 0.8243, 0.8194,\n",
       "        0.8297, 0.8304])}"
      ]
     },
     "execution_count": 5,
     "metadata": {},
     "output_type": "execute_result"
    }
   ],
   "source": [
    "accs"
   ]
  },
  {
   "cell_type": "code",
   "execution_count": 13,
   "metadata": {},
   "outputs": [],
   "source": [
    "model_pths = export_pths['baseline'][:4]\n",
    "accs = corruption_job.summarize(model_pths)"
   ]
  },
  {
   "cell_type": "code",
   "execution_count": 14,
   "metadata": {},
   "outputs": [
    {
     "data": {
      "text/plain": [
       "{'gaussian_noise': array([0.2338, 0.2302, 0.2512, 0.2081]),\n",
       " 'shot_noise': array([0.2844, 0.2708, 0.2403]),\n",
       " 'impulse_noise': array([0.2743, 0.3521, 0.2871]),\n",
       " 'defocus_blur': array([0.3388, 0.3623, 0.3154, 0.4108]),\n",
       " 'glass_blur': array([0.327 , 0.3348, 0.34  , 0.3298]),\n",
       " 'motion_blur': array([0.4706, 0.4692, 0.465 , 0.4946]),\n",
       " 'zoom_blur': array([0.3543, 0.4773]),\n",
       " 'snow': array([0.6444, 0.6407, 0.637 ]),\n",
       " 'frost': array([0.4984, 0.4911, 0.5129, 0.4597]),\n",
       " 'fog': array([0.5785, 0.6144, 0.6203]),\n",
       " 'brightness': array([0.8789, 0.869 , 0.877 , 0.8676]),\n",
       " 'contrast': array([0.41  , 0.4562, 0.5243, 0.4455]),\n",
       " 'elastic_transform': array([0.6154, 0.6052, 0.6094, 0.6098]),\n",
       " 'pixelate': array([0.3034, 0.3063, 0.3228, 0.294 ]),\n",
       " 'jpeg_compression': array([0.6778, 0.6788, 0.6923, 0.6921])}"
      ]
     },
     "execution_count": 14,
     "metadata": {},
     "output_type": "execute_result"
    }
   ],
   "source": [
    "accs"
   ]
  }
 ],
 "metadata": {
  "kernelspec": {
   "display_name": "Python 3",
   "language": "python",
   "name": "python3"
  },
  "language_info": {
   "codemirror_mode": {
    "name": "ipython",
    "version": 3
   },
   "file_extension": ".py",
   "mimetype": "text/x-python",
   "name": "python",
   "nbconvert_exporter": "python",
   "pygments_lexer": "ipython3",
   "version": "3.8.0"
  }
 },
 "nbformat": 4,
 "nbformat_minor": 4
}
