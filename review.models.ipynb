{
 "cells": [
  {
   "cell_type": "code",
   "execution_count": 1,
   "metadata": {},
   "outputs": [],
   "source": [
    "%matplotlib inline\n",
    "import matplotlib.pyplot as plt\n",
    "plt.rcParams.update({'font.size': 15, 'lines.linewidth': 3, 'savefig.dpi': 1200})\n",
    "\n",
    "import os, random, time, pickle, torch\n",
    "import numpy as np\n",
    "\n",
    "export_dir = 'store/models/exported'\n",
    "if not os.path.exists(export_dir):\n",
    "    os.makedirs(export_dir)"
   ]
  },
  {
   "cell_type": "code",
   "execution_count": 2,
   "metadata": {},
   "outputs": [],
   "source": [
    "from blurnet import trainer\n",
    "\n",
    "job = trainer.TrainJob('store')"
   ]
  },
  {
   "cell_type": "code",
   "execution_count": 3,
   "metadata": {},
   "outputs": [
    {
     "name": "stdout",
     "output_type": "stream",
     "text": [
      "10 models exported for sigma=None\n",
      "10 models exported for sigma=1.5\n"
     ]
    }
   ],
   "source": [
    "task, grayscale = 'CIFAR10', True\n",
    "export_pths = {}\n",
    "sigmas = {\n",
    "    'baseline': None,\n",
    "    'blur': 1.5,\n",
    "}\n",
    "\n",
    "for label, sigma in sigmas.items():\n",
    "    cond = {'model_config': {'task': task, 'grayscale': grayscale, 'sigma': sigma}}\n",
    "    export_pths[label] = []\n",
    "    for key, config in job.conditioned(cond):\n",
    "        export_pth = os.path.join(export_dir, '{}-{}-{}-{:03d}.pickle'.format(\n",
    "            task, 'GRAY' if grayscale else 'RGB',\n",
    "            'baseline' if sigma is None else '{:g}'.format(sigma),\n",
    "            config['train_config']['seed']\n",
    "        ))\n",
    "        if not os.path.join(export_pth):\n",
    "            job.export(key, export_pth)\n",
    "        export_pths[label].append(export_pth)\n",
    "    print('{} models exported for sigma={}'.format(len(export_pths[label]), sigma))"
   ]
  }
 ],
 "metadata": {
  "kernelspec": {
   "display_name": "Python 3",
   "language": "python",
   "name": "python3"
  },
  "language_info": {
   "codemirror_mode": {
    "name": "ipython",
    "version": 3
   },
   "file_extension": ".py",
   "mimetype": "text/x-python",
   "name": "python",
   "nbconvert_exporter": "python",
   "pygments_lexer": "ipython3",
   "version": "3.8.0"
  }
 },
 "nbformat": 4,
 "nbformat_minor": 4
}
