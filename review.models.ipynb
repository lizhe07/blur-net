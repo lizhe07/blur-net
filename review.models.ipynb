{
 "cells": [
  {
   "cell_type": "code",
   "execution_count": 1,
   "metadata": {},
   "outputs": [],
   "source": [
    "%matplotlib inline\n",
    "import matplotlib.pyplot as plt\n",
    "plt.rcParams.update({'font.size': 15, 'lines.linewidth': 3, 'savefig.dpi': 1200})\n",
    "\n",
    "import os, random, time, pickle, torch\n",
    "import numpy as np"
   ]
  },
  {
   "cell_type": "code",
   "execution_count": 2,
   "metadata": {},
   "outputs": [
    {
     "name": "stdout",
     "output_type": "stream",
     "text": [
      "19 works completed\n",
      "average processing time 34m11.45s\n"
     ]
    }
   ],
   "source": [
    "from blurnet import trainer\n",
    "\n",
    "job = trainer.BlurJob('save', 'vision_datasets')\n",
    "completed_configs = job.overview()"
   ]
  },
  {
   "cell_type": "code",
   "execution_count": 3,
   "metadata": {},
   "outputs": [],
   "source": [
    "from jarvis.utils import grouping\n",
    "\n",
    "groups = grouping(completed_configs)\n",
    "losses, accs = {}, {}\n",
    "for key, configs in groups.items():\n",
    "    losses[key] = []\n",
    "    accs[key] = []\n",
    "    for config in configs:\n",
    "        w_id = job.configs.fetch_id(config)\n",
    "        preview = job.previews.fetch_record(w_id)\n",
    "        losses[key].append(preview['loss_test'])\n",
    "        accs[key].append(preview['acc_test'])"
   ]
  },
  {
   "cell_type": "code",
   "execution_count": 4,
   "metadata": {},
   "outputs": [
    {
     "name": "stdout",
     "output_type": "stream",
     "text": [
      "groups sorted according to mean loss\n",
      "\n",
      "{'model_config': {'blur_sigma': None}}\n",
      "loss: 0.235 (0.002)\n",
      "acc: 92.50% (0.09%)\n",
      "\n",
      "{'model_config': {'blur_sigma': 0.5}}\n",
      "loss: 0.249 (0.003)\n",
      "acc: 91.90% (0.13%)\n",
      "\n",
      "{'model_config': {'blur_sigma': 1.5}}\n",
      "loss: 0.358 (0.015)\n",
      "acc: 88.14% (0.55%)\n",
      "\n",
      "{'model_config': {'blur_sigma': 2.5}}\n",
      "loss: 0.512 (0.007)\n",
      "acc: 82.86% (0.33%)\n"
     ]
    }
   ],
   "source": [
    "sorted_keys = [key for key, _ in sorted([(key, np.mean(losses[key])) for key in groups], key=lambda item:item[1])]\n",
    "print('groups sorted according to mean loss')\n",
    "for key in sorted_keys:\n",
    "    print(f'\\n{key}')\n",
    "    print('loss: {:.3f} ({:.3f})'.format(np.mean(losses[key]), np.std(losses[key])/len(losses[key])**0.5))\n",
    "    print('acc: {:.2%} ({:.2%})'.format(np.mean(accs[key]), np.std(accs[key])/len(accs[key])**0.5))"
   ]
  },
  {
   "cell_type": "code",
   "execution_count": null,
   "metadata": {},
   "outputs": [
    {
     "name": "stdout",
     "output_type": "stream",
     "text": [
      "export 5 models with\n",
      "{'model_config': {'blur_sigma': 1.5}}\n",
      "\n",
      "exporting 03375596...\n",
      "exporting 3A95D107...\n",
      "exporting 3F26F60C...\n"
     ]
    }
   ],
   "source": [
    "key = sorted_keys[2]\n",
    "print(f'export {len(groups[key])} models with\\n{key}\\n')\n",
    "\n",
    "for config in groups[key]:\n",
    "    w_id = job.configs.fetch_id(config)\n",
    "    print(f'exporting {w_id}...')\n",
    "    job.export(w_id, 'save/exported')"
   ]
  }
 ],
 "metadata": {
  "kernelspec": {
   "display_name": "Python 3",
   "language": "python",
   "name": "python3"
  },
  "language_info": {
   "codemirror_mode": {
    "name": "ipython",
    "version": 3
   },
   "file_extension": ".py",
   "mimetype": "text/x-python",
   "name": "python",
   "nbconvert_exporter": "python",
   "pygments_lexer": "ipython3",
   "version": "3.8.0"
  }
 },
 "nbformat": 4,
 "nbformat_minor": 4
}
