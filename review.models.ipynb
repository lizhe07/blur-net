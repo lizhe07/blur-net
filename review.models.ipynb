{
 "cells": [
  {
   "cell_type": "code",
   "execution_count": 1,
   "metadata": {},
   "outputs": [],
   "source": [
    "%matplotlib inline\n",
    "import matplotlib.pyplot as plt\n",
    "plt.rcParams.update({'font.size': 15, 'lines.linewidth': 3, 'savefig.dpi': 1200})\n",
    "\n",
    "import os, random, time, pickle, torch\n",
    "import numpy as np"
   ]
  },
  {
   "cell_type": "code",
   "execution_count": 2,
   "metadata": {},
   "outputs": [],
   "source": [
    "from blurnet import trainer\n",
    "\n",
    "job = trainer.TrainJob('store')"
   ]
  },
  {
   "cell_type": "code",
   "execution_count": 4,
   "metadata": {},
   "outputs": [
    {
     "data": {
      "text/plain": [
       "{'model_config': {'task': 'CIFAR10',\n",
       "  'grayscale': True,\n",
       "  'arch': 'ResNet18',\n",
       "  'sigma': 3.0},\n",
       " 'train_config': {'seed': 1,\n",
       "  'valid_num': 5000,\n",
       "  'batch_size': 64,\n",
       "  'lr': 0.1,\n",
       "  'momentum': 0.9,\n",
       "  'weight_decay': 0.0005,\n",
       "  'epoch_num': 50}}"
      ]
     },
     "execution_count": 4,
     "metadata": {},
     "output_type": "execute_result"
    }
   ],
   "source": [
    "next(job.configs.values())"
   ]
  },
  {
   "cell_type": "code",
   "execution_count": 9,
   "metadata": {},
   "outputs": [
    {
     "name": "stdout",
     "output_type": "stream",
     "text": [
      "10 models trained\n",
      "10 models trained\n",
      "10 models trained\n",
      "10 models trained\n",
      "8 models trained\n"
     ]
    }
   ],
   "source": [
    "for sigma in [None, 1.5, 2.5, 3.5, 4.5]:\n",
    "    cond = {'model_config': {'sigma': sigma}}\n",
    "    completed_configs = dict((key, config) for key, config in job.conditioned(cond))\n",
    "    print('{} models trained'.format(len(completed_configs)))"
   ]
  }
 ],
 "metadata": {
  "kernelspec": {
   "display_name": "Python 3",
   "language": "python",
   "name": "python3"
  },
  "language_info": {
   "codemirror_mode": {
    "name": "ipython",
    "version": 3
   },
   "file_extension": ".py",
   "mimetype": "text/x-python",
   "name": "python",
   "nbconvert_exporter": "python",
   "pygments_lexer": "ipython3",
   "version": "3.8.0"
  }
 },
 "nbformat": 4,
 "nbformat_minor": 4
}
