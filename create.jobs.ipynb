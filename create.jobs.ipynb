{
 "cells": [
  {
   "cell_type": "code",
   "execution_count": 1,
   "metadata": {},
   "outputs": [],
   "source": [
    "import os, pickle, random\n",
    "\n",
    "jobs_dir = os.path.join('store', 'jobs')\n",
    "if not os.path.exists(jobs_dir):\n",
    "    os.makedirs(jobs_dir)"
   ]
  },
  {
   "cell_type": "code",
   "execution_count": 2,
   "metadata": {},
   "outputs": [],
   "source": [
    "import pickle\n",
    "\n",
    "search_spec = {\n",
    "    'task': ['CIFAR10'],\n",
    "    'arch': ['ResNet18'],\n",
    "    'grayscale': [True, False],\n",
    "    'train_seed': list(range(5)),\n",
    "    'sigma': [None, 0.5, 0.6, 0.7, 0.8, 0.9, 1., 1.1, 1.2, 1.3, 1.4, 1.5, 1.6, 1.7, 1.8, 1.9, 2., 2.5],\n",
    "    }\n",
    "with open(os.path.join(jobs_dir, 'cifar10_res18_train.pickle'), 'wb') as f:\n",
    "    pickle.dump(search_spec, f)"
   ]
  },
  {
   "cell_type": "code",
   "execution_count": 3,
   "metadata": {},
   "outputs": [],
   "source": [
    "export_dir = os.path.join('store', 'models', 'exported')\n",
    "model_pths = [os.path.join(export_dir, f) for f in os.listdir(export_dir)]\n",
    "\n",
    "search_spec = {\n",
    "    'model_pth': model_pths,\n",
    "    'seed': list(range(4)),\n",
    "    'metric': ['Linf'],\n",
    "    'name': ['DF', 'BB'],\n",
    "    'targeted': [False, True],\n",
    "    'batch_idx': list(range(50)),\n",
    "    'eps': [None],\n",
    "}\n",
    "\n",
    "with open(os.path.join(jobs_dir, 'cifar10_res18_attack.pickle'), 'wb') as f:\n",
    "    pickle.dump(search_spec, f)"
   ]
  }
 ],
 "metadata": {
  "kernelspec": {
   "display_name": "Python 3 (ipykernel)",
   "language": "python",
   "name": "python3"
  },
  "language_info": {
   "codemirror_mode": {
    "name": "ipython",
    "version": 3
   },
   "file_extension": ".py",
   "mimetype": "text/x-python",
   "name": "python",
   "nbconvert_exporter": "python",
   "pygments_lexer": "ipython3",
   "version": "3.8.11"
  }
 },
 "nbformat": 4,
 "nbformat_minor": 4
}
