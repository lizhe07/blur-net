{
 "cells": [
  {
   "cell_type": "code",
   "execution_count": null,
   "metadata": {},
   "outputs": [],
   "source": [
    "import pickle\n",
    "\n",
    "search_spec = {\n",
    "    'task': ['CIFAR10'],\n",
    "    'arch': ['ResNet18'],\n",
    "    'train_seed': [41, 85, 29, 63, 7],\n",
    "    'blur_sigma': [None, 1.5],\n",
    "    }\n",
    "with open('save/jobs/blurnet_training.pickle', 'wb') as f:\n",
    "    pickle.dump(search_spec, f)"
   ]
  }
 ],
 "metadata": {
  "kernelspec": {
   "display_name": "Python 3",
   "language": "python",
   "name": "python3"
  },
  "language_info": {
   "codemirror_mode": {
    "name": "ipython",
    "version": 3
   },
   "file_extension": ".py",
   "mimetype": "text/x-python",
   "name": "python",
   "nbconvert_exporter": "python",
   "pygments_lexer": "ipython3",
   "version": "3.8.5"
  }
 },
 "nbformat": 4,
 "nbformat_minor": 4
}
