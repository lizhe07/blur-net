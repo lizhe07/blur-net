{
 "cells": [
  {
   "cell_type": "code",
   "execution_count": 1,
   "metadata": {},
   "outputs": [],
   "source": [
    "import os, pickle, random\n",
    "\n",
    "JOBS_DIR = os.path.join('store', 'jobs')\n",
    "if not os.path.exists(JOBS_DIR):\n",
    "    os.makedirs(JOBS_DIR)"
   ]
  },
  {
   "cell_type": "code",
   "execution_count": 2,
   "metadata": {},
   "outputs": [],
   "source": [
    "import pickle\n",
    "\n",
    "search_spec = {\n",
    "    'task': ['CIFAR10'],\n",
    "    'arch': ['ResNet18'],\n",
    "    'grayscale': [True],\n",
    "    'train_seed': list(range(3)),\n",
    "    'sigma': [None, 0.5, 1., 1.5, 2., 2.5],\n",
    "    }\n",
    "with open(os.path.join(JOBS_DIR, 'cifar10_res18.pickle'), 'wb') as f:\n",
    "    pickle.dump(search_spec, f)"
   ]
  }
 ],
 "metadata": {
  "kernelspec": {
   "display_name": "Python 3",
   "language": "python",
   "name": "python3"
  },
  "language_info": {
   "codemirror_mode": {
    "name": "ipython",
    "version": 3
   },
   "file_extension": ".py",
   "mimetype": "text/x-python",
   "name": "python",
   "nbconvert_exporter": "python",
   "pygments_lexer": "ipython3",
   "version": "3.8.5"
  }
 },
 "nbformat": 4,
 "nbformat_minor": 4
}
