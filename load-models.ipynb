{
 "cells": [
  {
   "cell_type": "code",
   "execution_count": 1,
   "id": "0770f030-b630-46b6-960b-a8b9b5150642",
   "metadata": {},
   "outputs": [],
   "source": [
    "import os\n",
    "\n",
    "store_dir = 'store'\n",
    "model_paths = [\n",
    "    f'{store_dir}/exported/{f}' for f in os.listdir(f'{store_dir}/exported') if f.endswith('.pt')\n",
    "]"
   ]
  },
  {
   "cell_type": "code",
   "execution_count": 2,
   "id": "305724d7-8f8f-4882-a905-c95f72a473ec",
   "metadata": {},
   "outputs": [
    {
     "data": {
      "text/plain": [
       "['store/exported/BlurResNet50_[3].pt',\n",
       " 'store/exported/BlurResNet18_[1.5]_2A9BC19E.pt',\n",
       " 'store/exported/ResNet50.pt',\n",
       " 'store/exported/BlurResNet18_[1.5]_78B6B7CD.pt',\n",
       " 'store/exported/ImageNet_Adv_LI-4.pt',\n",
       " 'store/exported/ImageNet_DeepAug.pt',\n",
       " 'store/exported/BlurResNet50_[1.5].pt',\n",
       " 'store/exported/ImageNet_SIN.pt',\n",
       " 'store/exported/C10R34_DE2681C8.pt',\n",
       " 'store/exported/ImageNet_DAAM.pt',\n",
       " 'store/exported/BlurResNet18_[1.5]_1E1A0C95.pt',\n",
       " 'store/exported/C10R18_FF0E42EF.pt',\n",
       " 'store/exported/BlurResNet18_[1.5]_A73EED68.pt',\n",
       " 'store/exported/BlurResNet50_[5].pt',\n",
       " 'store/exported/CIFAR10-Gray_Baseline.pt',\n",
       " 'store/exported/BlurResNet18_[1.5]_CCA1DE26.pt',\n",
       " 'store/exported/BlurResNet50_[9].pt',\n",
       " 'store/exported/ImageNet_AugMix.pt',\n",
       " 'store/exported/ImageNet_Adv_L2-3.pt',\n",
       " 'store/exported/BlurResNet50_[15].pt',\n",
       " 'store/exported/BlurResNet50_[2].pt',\n",
       " 'store/exported/CIFAR10-Gray_Mouse.pt',\n",
       " 'store/exported/ImageNet_ANT.pt']"
      ]
     },
     "execution_count": 2,
     "metadata": {},
     "output_type": "execute_result"
    }
   ],
   "source": [
    "model_paths"
   ]
  },
  {
   "cell_type": "code",
   "execution_count": 8,
   "id": "71708ec4-feba-4333-8a53-5a34f9b04426",
   "metadata": {},
   "outputs": [
    {
     "name": "stdout",
     "output_type": "stream",
     "text": [
      "ImageNet\n",
      "torch.Size([1, 1000])\n",
      "CIFAR10\n",
      "torch.Size([1, 10])\n",
      "ImageNet\n",
      "torch.Size([1, 1000])\n",
      "CIFAR10\n",
      "torch.Size([1, 10])\n",
      "ImageNet\n",
      "torch.Size([1, 1000])\n",
      "ImageNet\n",
      "torch.Size([1, 1000])\n",
      "ImageNet\n",
      "torch.Size([1, 1000])\n",
      "ImageNet\n",
      "torch.Size([1, 1000])\n",
      "CIFAR10\n",
      "torch.Size([1, 10])\n",
      "ImageNet\n",
      "torch.Size([1, 1000])\n",
      "CIFAR10\n",
      "torch.Size([1, 10])\n",
      "CIFAR10\n",
      "torch.Size([1, 10])\n",
      "CIFAR10\n",
      "torch.Size([1, 10])\n",
      "ImageNet\n",
      "torch.Size([1, 1000])\n",
      "CIFAR10-Gray\n",
      "torch.Size([1, 10])\n",
      "CIFAR10\n",
      "torch.Size([1, 10])\n",
      "ImageNet\n",
      "torch.Size([1, 1000])\n",
      "ImageNet\n",
      "torch.Size([1, 1000])\n",
      "ImageNet\n",
      "torch.Size([1, 1000])\n",
      "ImageNet\n",
      "torch.Size([1, 1000])\n",
      "ImageNet\n",
      "torch.Size([1, 1000])\n",
      "CIFAR10-Gray\n",
      "torch.Size([1, 10])\n",
      "ImageNet\n",
      "torch.Size([1, 1000])\n"
     ]
    }
   ],
   "source": [
    "import torch\n",
    "\n",
    "device = 'cuda'\n",
    "for model_path in model_paths:\n",
    "    saved = torch.load(model_path)\n",
    "    model = saved['model']\n",
    "    print(saved['task'])\n",
    "    task = saved['task']\n",
    "    if task=='ImageNet':\n",
    "        x = torch.zeros((1, 3, 224, 224))\n",
    "    if task=='CIFAR10':\n",
    "        x = torch.zeros((1, 3, 32, 32))\n",
    "    if task=='CIFAR10-Gray':\n",
    "        x = torch.zeros((1, 1, 32, 32))\n",
    "    \n",
    "    model.eval().to(device)\n",
    "    x = x.to(device)\n",
    "    with torch.no_grad():\n",
    "        y = model(x)\n",
    "    print(y.shape)"
   ]
  }
 ],
 "metadata": {
  "kernelspec": {
   "display_name": "Python 3 (ipykernel)",
   "language": "python",
   "name": "python3"
  },
  "language_info": {
   "codemirror_mode": {
    "name": "ipython",
    "version": 3
   },
   "file_extension": ".py",
   "mimetype": "text/x-python",
   "name": "python",
   "nbconvert_exporter": "python",
   "pygments_lexer": "ipython3",
   "version": "3.9.15"
  }
 },
 "nbformat": 4,
 "nbformat_minor": 5
}
