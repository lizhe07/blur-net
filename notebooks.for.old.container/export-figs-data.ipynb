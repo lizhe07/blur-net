{
 "cells": [
  {
   "cell_type": "code",
   "execution_count": 1,
   "id": "3b875b58-7cdc-49d8-b969-dd44aee6b290",
   "metadata": {},
   "outputs": [],
   "source": [
    "import torch\n",
    "\n",
    "from roarena.corruption import CorruptionJob\n",
    "from roarena.corruption import CORRUPTIONS\n",
    "\n",
    "job = CorruptionJob('store', 'datasets', readonly=True)"
   ]
  },
  {
   "cell_type": "code",
   "execution_count": 2,
   "id": "af420fed-5338-414e-a997-43e72e1fe117",
   "metadata": {},
   "outputs": [],
   "source": [
    "for animal in ['mouse', 'monkey']:\n",
    "    if animal=='mouse':\n",
    "        model_paths = {\n",
    "            'base': 'store/models/CIFAR10-G_Baseline.pt',\n",
    "            'neural': 'store/models/CIFAR10-G_Mouse.pt',\n",
    "        }\n",
    "    if animal=='monkey':\n",
    "        model_paths = {\n",
    "            'base': 'store/models/VGG19_Baseline.pt',\n",
    "            'neural': 'store/models/VGG19_MTL.pt',\n",
    "        }\n",
    "    \n",
    "    accs = {}\n",
    "    for label, model_path in model_paths.items():\n",
    "        saved = torch.load(model_path)\n",
    "        accs[label] = {0: saved['acc']}\n",
    "        for severity in range(1, 6):\n",
    "            accs[label][severity] = []\n",
    "            for corruption in CORRUPTIONS:\n",
    "                config = {\n",
    "                    'model_pth': model_path,\n",
    "                    'severity': severity,\n",
    "                    'corruption': corruption,\n",
    "                }\n",
    "                key = job.configs.get_key(config)\n",
    "                accs[label][severity].append(job.previews[key]['acc'])\n",
    "    torch.save(accs, f'store/figs-data/{animal}_corruption.pt')"
   ]
  }
 ],
 "metadata": {
  "kernelspec": {
   "display_name": "Python 3 (ipykernel)",
   "language": "python",
   "name": "python3"
  },
  "language_info": {
   "codemirror_mode": {
    "name": "ipython",
    "version": 3
   },
   "file_extension": ".py",
   "mimetype": "text/x-python",
   "name": "python",
   "nbconvert_exporter": "python",
   "pygments_lexer": "ipython3",
   "version": "3.8.0"
  }
 },
 "nbformat": 4,
 "nbformat_minor": 5
}
