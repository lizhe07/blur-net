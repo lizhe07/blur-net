{
 "cells": [
  {
   "cell_type": "code",
   "execution_count": 12,
   "id": "6ed962bc-1346-49a8-99cf-1bee6a6ad49f",
   "metadata": {},
   "outputs": [],
   "source": [
    "import torch\n",
    "import numpy as np"
   ]
  },
  {
   "cell_type": "code",
   "execution_count": 1,
   "id": "b7054e9a-d59f-4469-966b-85b4f2f382d7",
   "metadata": {},
   "outputs": [],
   "source": [
    "from roarena.corruption import CorruptionJob\n",
    "from roarena.corruption import CORRUPTIONS\n",
    "\n",
    "job = CorruptionJob('store', 'datasets', readonly=True)"
   ]
  },
  {
   "cell_type": "code",
   "execution_count": 2,
   "id": "af420fed-5338-414e-a997-43e72e1fe117",
   "metadata": {},
   "outputs": [],
   "source": [
    "for animal in ['mouse', 'monkey']:\n",
    "    if animal=='mouse':\n",
    "        model_paths = {\n",
    "            'base': 'store/models/CIFAR10-G_Baseline.pt',\n",
    "            'neural': 'store/models/CIFAR10-G_Mouse.pt',\n",
    "        }\n",
    "    if animal=='monkey':\n",
    "        model_paths = {\n",
    "            'base': 'store/models/VGG19_Baseline.pt',\n",
    "            'neural': 'store/models/VGG19_MTL.pt',\n",
    "        }\n",
    "    \n",
    "    accs = {}\n",
    "    for label, model_path in model_paths.items():\n",
    "        saved = torch.load(model_path)\n",
    "        accs[label] = {0: saved['acc']}\n",
    "        for severity in range(1, 6):\n",
    "            accs[label][severity] = []\n",
    "            for corruption in CORRUPTIONS:\n",
    "                config = {\n",
    "                    'model_pth': model_path,\n",
    "                    'severity': severity,\n",
    "                    'corruption': corruption,\n",
    "                }\n",
    "                key = job.configs.get_key(config)\n",
    "                accs[label][severity].append(job.previews[key]['acc'])\n",
    "    torch.save(accs, f'store/figs-data/{animal}_corruption.pt')"
   ]
  },
  {
   "cell_type": "code",
   "execution_count": 48,
   "id": "1787cf6b-4bb1-4e98-bfca-2d7f63b615a5",
   "metadata": {},
   "outputs": [
    {
     "name": "stdout",
     "output_type": "stream",
     "text": [
      "gathering advs for store/models/CIFAR10-G_Baseline.pt...\n",
      "gathering advs for store/models/CIFAR10-G_Mouse.pt...\n",
      "gathering advs for store/models/VGG19_Baseline.pt...\n",
      "gathering advs for store/models/VGG19_MTL.pt...\n"
     ]
    }
   ],
   "source": [
    "from roarena.attack import AttackJob\n",
    "from jarvis.vision import prepare_datasets\n",
    "\n",
    "job = AttackJob('store', 'datasets', readonly=True)\n",
    "\n",
    "metric = 'LI'\n",
    "targeted = True\n",
    "\n",
    "for animal in ['mouse', 'monkey']:\n",
    "    if animal=='mouse':\n",
    "        model_paths = {\n",
    "            'base': 'store/models/CIFAR10-G_Baseline.pt',\n",
    "            'neural': 'store/models/CIFAR10-G_Mouse.pt',\n",
    "        }\n",
    "        dataset = prepare_datasets('CIFAR10-Gray', 'datasets')\n",
    "    if animal=='monkey':\n",
    "        model_paths = {\n",
    "            'base': 'store/models/VGG19_Baseline.pt',\n",
    "            'neural': 'store/models/VGG19_MTL.pt',\n",
    "        }\n",
    "        dataset = prepare_datasets('TinyImageNet-Gray', 'datasets')\n",
    "    loader = torch.utils.data.DataLoader(dataset, batch_size=20)\n",
    "\n",
    "    imgs, advs = {}, {}\n",
    "    for label, model_path in model_paths.items():\n",
    "        print(f'gathering advs for {model_path}...')\n",
    "        imgs[label] = []\n",
    "        advs[label] = []\n",
    "        for b_idx, (_imgs, _) in enumerate(loader):\n",
    "            if b_idx>=50:\n",
    "                break\n",
    "\n",
    "            cond = {\n",
    "                'model_pth': model_path,\n",
    "                'batch_idx': b_idx,\n",
    "                'metric': metric, 'targeted': targeted,\n",
    "                'name': 'BB',\n",
    "            }\n",
    "            _advs, _dists = [], []\n",
    "            for key, config in job.conditioned(cond):\n",
    "                result = job.results[key]\n",
    "                _advs.append(result['advs'])\n",
    "                _dists.append(result['dists'])\n",
    "            if len(_dists)==0:\n",
    "                continue\n",
    "            imgs[label].append(_imgs)\n",
    "\n",
    "            _advs = np.array(_advs)\n",
    "            _dists = np.array(_dists)\n",
    "            idxs = np.argmin(_dists, axis=0)\n",
    "            advs[label].append(np.array([_advs[idx, i] for i, idx in enumerate(idxs)]))\n",
    "\n",
    "            if (b_idx+1)%10==0:\n",
    "                print('{:2d} batches loaded'.format(b_idx+1))\n",
    "        imgs[label] = np.concatenate(imgs[label])\n",
    "        advs[label] = np.concatenate(advs[label])\n",
    "    torch.save({'imgs': imgs, 'advs': advs}, f'store/figs-data/{animal}_advs.pt')"
   ]
  }
 ],
 "metadata": {
  "kernelspec": {
   "display_name": "Python 3 (ipykernel)",
   "language": "python",
   "name": "python3"
  },
  "language_info": {
   "codemirror_mode": {
    "name": "ipython",
    "version": 3
   },
   "file_extension": ".py",
   "mimetype": "text/x-python",
   "name": "python",
   "nbconvert_exporter": "python",
   "pygments_lexer": "ipython3",
   "version": "3.8.0"
  }
 },
 "nbformat": 4,
 "nbformat_minor": 5
}
