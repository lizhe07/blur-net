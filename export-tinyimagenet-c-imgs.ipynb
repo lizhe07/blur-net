{
 "cells": [
  {
   "cell_type": "code",
   "execution_count": 1,
   "id": "88b9cf48-c1e1-422f-a485-ff6b8e53573b",
   "metadata": {},
   "outputs": [],
   "source": [
    "import os\n",
    "\n",
    "img_names = []\n",
    "for cls_name in os.listdir('datasets/imagenet_val_bbox_crop/'):\n",
    "    for file_name in os.listdir(f'datasets/imagenet_val_bbox_crop/{cls_name}'):\n",
    "        img_names.append(f'{cls_name}/{file_name}')"
   ]
  },
  {
   "cell_type": "code",
   "execution_count": 2,
   "id": "2c51c3cf-4e73-4b75-975c-c38adcab3033",
   "metadata": {},
   "outputs": [],
   "source": [
    "import numpy as np\n",
    "from numpy.fft import fft2, fftshift, fftfreq\n",
    "import torch\n",
    "from PIL import Image, ImageOps\n",
    "\n",
    "imgs = []\n",
    "for img_name in img_names:\n",
    "    file_name = f'datasets/imagenet_val_bbox_crop/{img_name}'\n",
    "    img = np.array(ImageOps.grayscale(Image.open(file_name)).resize((64, 64)))\n",
    "    imgs.append(img)\n",
    "imgs_raw = np.array(imgs)/255.\n",
    "# torch.save(imgs, 'store/figs-data/TinyImageNet_imgs.pt')"
   ]
  },
  {
   "cell_type": "code",
   "execution_count": 3,
   "id": "29ee7ee2-24c6-4192-b538-c00f01f64d16",
   "metadata": {},
   "outputs": [
    {
     "name": "stdout",
     "output_type": "stream",
     "text": [
      "gathering tiny-imagenet-c images for gaussian_noise...\n",
      "gathering tiny-imagenet-c images for shot_noise...\n",
      "gathering tiny-imagenet-c images for impulse_noise...\n",
      "gathering tiny-imagenet-c images for defocus_blur...\n",
      "gathering tiny-imagenet-c images for glass_blur...\n",
      "gathering tiny-imagenet-c images for motion_blur...\n",
      "gathering tiny-imagenet-c images for zoom_blur...\n",
      "gathering tiny-imagenet-c images for snow...\n",
      "gathering tiny-imagenet-c images for frost...\n",
      "gathering tiny-imagenet-c images for fog...\n",
      "gathering tiny-imagenet-c images for brightness...\n",
      "gathering tiny-imagenet-c images for contrast...\n",
      "gathering tiny-imagenet-c images for elastic_transform...\n",
      "gathering tiny-imagenet-c images for pixelate...\n",
      "gathering tiny-imagenet-c images for jpeg_compression...\n"
     ]
    }
   ],
   "source": [
    "from roarena.corruption import CORRUPTIONS\n",
    "\n",
    "powers = {}\n",
    "for corruption in CORRUPTIONS:\n",
    "    print(f'gathering tiny-imagenet-c images for {corruption}...')\n",
    "    for severity in range(1, 6):\n",
    "        tag = f'{corruption}-{severity}'\n",
    "        imgs_crp = []\n",
    "        for img_name in img_names:\n",
    "            file_name = f'datasets/Tiny-ImageNet-C/{corruption}/{severity}/{img_name}'\n",
    "            img = np.array(ImageOps.grayscale(Image.open(file_name)))\n",
    "            imgs_crp.append(img)\n",
    "        imgs_crp = np.array(imgs_crp)/255.\n",
    "        \n",
    "        diffs = imgs_crp-imgs_raw\n",
    "        _powers = np.abs(fft2(diffs))**2\n",
    "        _powers[..., 0, 0] = np.nan\n",
    "        powers[tag] = fftshift(_powers.mean(axis=(0)))\n",
    "torch.save(powers, f'store/figs-data/TinyImageNet-C_powers.pt')"
   ]
  }
 ],
 "metadata": {
  "kernelspec": {
   "display_name": "Python 3 (ipykernel)",
   "language": "python",
   "name": "python3"
  },
  "language_info": {
   "codemirror_mode": {
    "name": "ipython",
    "version": 3
   },
   "file_extension": ".py",
   "mimetype": "text/x-python",
   "name": "python",
   "nbconvert_exporter": "python",
   "pygments_lexer": "ipython3",
   "version": "3.9.5"
  }
 },
 "nbformat": 4,
 "nbformat_minor": 5
}
